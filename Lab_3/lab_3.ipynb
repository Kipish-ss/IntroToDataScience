{
 "cells": [
  {
   "cell_type": "code",
   "execution_count": 1,
   "outputs": [],
   "source": [
    "import pandas as pd\n",
    "import numpy as np"
   ],
   "metadata": {
    "collapsed": false,
    "ExecuteTime": {
     "end_time": "2023-10-30T21:08:40.319414Z",
     "start_time": "2023-10-30T21:08:39.830674Z"
    }
   },
   "id": "initial_id"
  },
  {
   "cell_type": "code",
   "execution_count": 2,
   "outputs": [
    {
     "data": {
      "text/plain": "  Manufacturer  Price  Safety_Rating  Cargo_Capacity  Horsepower  \\\n0       Toyota  35000              5             500         200   \n1         Ford  32000              4             450         250   \n2        Honda  33000              5             480         190   \n3    Chevrolet  31000              4             400         180   \n4       Nissan  34000              4             520         220   \n5      Hyundai  30000              5             470         210   \n6       Subaru  37000              4             430         240   \n7        Mazda  31000              5             490         230   \n8         Jeep  38000              4             520         260   \n9   Volkswagen  36000              5             450         180   \n\n   Fuel_Consumption  Warranty_Years  Ground_Clearance  \n0               8.5               5               203  \n1              10.7               3               201  \n2               7.8               4               208  \n3              12.6               3               193  \n4               9.6               5               198  \n5               8.9               6               213  \n6               9.4               3               221  \n7               9.2               4               191  \n8              11.3               5               228  \n9               8.8               4               196  ",
      "text/html": "<div>\n<style scoped>\n    .dataframe tbody tr th:only-of-type {\n        vertical-align: middle;\n    }\n\n    .dataframe tbody tr th {\n        vertical-align: top;\n    }\n\n    .dataframe thead th {\n        text-align: right;\n    }\n</style>\n<table border=\"1\" class=\"dataframe\">\n  <thead>\n    <tr style=\"text-align: right;\">\n      <th></th>\n      <th>Manufacturer</th>\n      <th>Price</th>\n      <th>Safety_Rating</th>\n      <th>Cargo_Capacity</th>\n      <th>Horsepower</th>\n      <th>Fuel_Consumption</th>\n      <th>Warranty_Years</th>\n      <th>Ground_Clearance</th>\n    </tr>\n  </thead>\n  <tbody>\n    <tr>\n      <th>0</th>\n      <td>Toyota</td>\n      <td>35000</td>\n      <td>5</td>\n      <td>500</td>\n      <td>200</td>\n      <td>8.5</td>\n      <td>5</td>\n      <td>203</td>\n    </tr>\n    <tr>\n      <th>1</th>\n      <td>Ford</td>\n      <td>32000</td>\n      <td>4</td>\n      <td>450</td>\n      <td>250</td>\n      <td>10.7</td>\n      <td>3</td>\n      <td>201</td>\n    </tr>\n    <tr>\n      <th>2</th>\n      <td>Honda</td>\n      <td>33000</td>\n      <td>5</td>\n      <td>480</td>\n      <td>190</td>\n      <td>7.8</td>\n      <td>4</td>\n      <td>208</td>\n    </tr>\n    <tr>\n      <th>3</th>\n      <td>Chevrolet</td>\n      <td>31000</td>\n      <td>4</td>\n      <td>400</td>\n      <td>180</td>\n      <td>12.6</td>\n      <td>3</td>\n      <td>193</td>\n    </tr>\n    <tr>\n      <th>4</th>\n      <td>Nissan</td>\n      <td>34000</td>\n      <td>4</td>\n      <td>520</td>\n      <td>220</td>\n      <td>9.6</td>\n      <td>5</td>\n      <td>198</td>\n    </tr>\n    <tr>\n      <th>5</th>\n      <td>Hyundai</td>\n      <td>30000</td>\n      <td>5</td>\n      <td>470</td>\n      <td>210</td>\n      <td>8.9</td>\n      <td>6</td>\n      <td>213</td>\n    </tr>\n    <tr>\n      <th>6</th>\n      <td>Subaru</td>\n      <td>37000</td>\n      <td>4</td>\n      <td>430</td>\n      <td>240</td>\n      <td>9.4</td>\n      <td>3</td>\n      <td>221</td>\n    </tr>\n    <tr>\n      <th>7</th>\n      <td>Mazda</td>\n      <td>31000</td>\n      <td>5</td>\n      <td>490</td>\n      <td>230</td>\n      <td>9.2</td>\n      <td>4</td>\n      <td>191</td>\n    </tr>\n    <tr>\n      <th>8</th>\n      <td>Jeep</td>\n      <td>38000</td>\n      <td>4</td>\n      <td>520</td>\n      <td>260</td>\n      <td>11.3</td>\n      <td>5</td>\n      <td>228</td>\n    </tr>\n    <tr>\n      <th>9</th>\n      <td>Volkswagen</td>\n      <td>36000</td>\n      <td>5</td>\n      <td>450</td>\n      <td>180</td>\n      <td>8.8</td>\n      <td>4</td>\n      <td>196</td>\n    </tr>\n  </tbody>\n</table>\n</div>"
     },
     "execution_count": 2,
     "metadata": {},
     "output_type": "execute_result"
    }
   ],
   "source": [
    "data = {\n",
    "    'Manufacturer': ['Toyota', 'Ford', 'Honda', 'Chevrolet', 'Nissan', 'Hyundai', 'Subaru', 'Mazda', 'Jeep',\n",
    "                     'Volkswagen'],\n",
    "    'Price': [35000, 32000, 33000, 31000, 34000, 30000, 37000, 31000, 38000, 36000],\n",
    "    'Safety_Rating': [5, 4, 5, 4, 4, 5, 4, 5, 4, 5],\n",
    "    'Cargo_Capacity': [500, 450, 480, 400, 520, 470, 430, 490, 520, 450],\n",
    "    'Horsepower': [200, 250, 190, 180, 220, 210, 240, 230, 260, 180],\n",
    "    'Fuel_Consumption': [8.5, 10.7, 7.8, 12.6, 9.6, 8.9, 9.4, 9.2, 11.3, 8.8],\n",
    "    'Warranty_Years': [5, 3, 4, 3, 5, 6, 3, 4, 5, 4],\n",
    "    'Ground_Clearance': [203, 201, 208, 193, 198, 213, 221, 191, 228, 196]\n",
    "}\n",
    "\n",
    "suv_df = pd.DataFrame(data)\n",
    "suv_df"
   ],
   "metadata": {
    "collapsed": false,
    "ExecuteTime": {
     "end_time": "2023-10-30T21:08:40.331495Z",
     "start_time": "2023-10-30T21:08:40.321182Z"
    }
   },
   "id": "906c2a8d567e7cee"
  },
  {
   "cell_type": "code",
   "execution_count": 3,
   "outputs": [
    {
     "data": {
      "text/plain": "                   Toyota     Ford    Honda  Chevrolet   Nissan  Hyundai  \\\nPrice             35000.0  32000.0  33000.0    31000.0  34000.0  30000.0   \nSafety_Rating         5.0      4.0      5.0        4.0      4.0      5.0   \nCargo_Capacity      500.0    450.0    480.0      400.0    520.0    470.0   \nHorsepower          200.0    250.0    190.0      180.0    220.0    210.0   \nFuel_Consumption      8.5     10.7      7.8       12.6      9.6      8.9   \nWarranty_Years        5.0      3.0      4.0        3.0      5.0      6.0   \nGround_Clearance    203.0    201.0    208.0      193.0    198.0    213.0   \n\n                   Subaru    Mazda     Jeep  Volkswagen Criterion  \nPrice             37000.0  31000.0  38000.0     36000.0       min  \nSafety_Rating         4.0      5.0      4.0         5.0       max  \nCargo_Capacity      430.0    490.0    520.0       450.0       max  \nHorsepower          240.0    230.0    260.0       180.0       max  \nFuel_Consumption      9.4      9.2     11.3         8.8       min  \nWarranty_Years        3.0      4.0      5.0         4.0       max  \nGround_Clearance    221.0    191.0    228.0       196.0       max  ",
      "text/html": "<div>\n<style scoped>\n    .dataframe tbody tr th:only-of-type {\n        vertical-align: middle;\n    }\n\n    .dataframe tbody tr th {\n        vertical-align: top;\n    }\n\n    .dataframe thead th {\n        text-align: right;\n    }\n</style>\n<table border=\"1\" class=\"dataframe\">\n  <thead>\n    <tr style=\"text-align: right;\">\n      <th></th>\n      <th>Toyota</th>\n      <th>Ford</th>\n      <th>Honda</th>\n      <th>Chevrolet</th>\n      <th>Nissan</th>\n      <th>Hyundai</th>\n      <th>Subaru</th>\n      <th>Mazda</th>\n      <th>Jeep</th>\n      <th>Volkswagen</th>\n      <th>Criterion</th>\n    </tr>\n  </thead>\n  <tbody>\n    <tr>\n      <th>Price</th>\n      <td>35000.0</td>\n      <td>32000.0</td>\n      <td>33000.0</td>\n      <td>31000.0</td>\n      <td>34000.0</td>\n      <td>30000.0</td>\n      <td>37000.0</td>\n      <td>31000.0</td>\n      <td>38000.0</td>\n      <td>36000.0</td>\n      <td>min</td>\n    </tr>\n    <tr>\n      <th>Safety_Rating</th>\n      <td>5.0</td>\n      <td>4.0</td>\n      <td>5.0</td>\n      <td>4.0</td>\n      <td>4.0</td>\n      <td>5.0</td>\n      <td>4.0</td>\n      <td>5.0</td>\n      <td>4.0</td>\n      <td>5.0</td>\n      <td>max</td>\n    </tr>\n    <tr>\n      <th>Cargo_Capacity</th>\n      <td>500.0</td>\n      <td>450.0</td>\n      <td>480.0</td>\n      <td>400.0</td>\n      <td>520.0</td>\n      <td>470.0</td>\n      <td>430.0</td>\n      <td>490.0</td>\n      <td>520.0</td>\n      <td>450.0</td>\n      <td>max</td>\n    </tr>\n    <tr>\n      <th>Horsepower</th>\n      <td>200.0</td>\n      <td>250.0</td>\n      <td>190.0</td>\n      <td>180.0</td>\n      <td>220.0</td>\n      <td>210.0</td>\n      <td>240.0</td>\n      <td>230.0</td>\n      <td>260.0</td>\n      <td>180.0</td>\n      <td>max</td>\n    </tr>\n    <tr>\n      <th>Fuel_Consumption</th>\n      <td>8.5</td>\n      <td>10.7</td>\n      <td>7.8</td>\n      <td>12.6</td>\n      <td>9.6</td>\n      <td>8.9</td>\n      <td>9.4</td>\n      <td>9.2</td>\n      <td>11.3</td>\n      <td>8.8</td>\n      <td>min</td>\n    </tr>\n    <tr>\n      <th>Warranty_Years</th>\n      <td>5.0</td>\n      <td>3.0</td>\n      <td>4.0</td>\n      <td>3.0</td>\n      <td>5.0</td>\n      <td>6.0</td>\n      <td>3.0</td>\n      <td>4.0</td>\n      <td>5.0</td>\n      <td>4.0</td>\n      <td>max</td>\n    </tr>\n    <tr>\n      <th>Ground_Clearance</th>\n      <td>203.0</td>\n      <td>201.0</td>\n      <td>208.0</td>\n      <td>193.0</td>\n      <td>198.0</td>\n      <td>213.0</td>\n      <td>221.0</td>\n      <td>191.0</td>\n      <td>228.0</td>\n      <td>196.0</td>\n      <td>max</td>\n    </tr>\n  </tbody>\n</table>\n</div>"
     },
     "execution_count": 3,
     "metadata": {},
     "output_type": "execute_result"
    }
   ],
   "source": [
    "suv_df = suv_df.set_index('Manufacturer')\n",
    "suv_df.index.name = None\n",
    "suv_df = suv_df.T\n",
    "suv_df['Criterion'] = ['min', 'max', 'max', 'max', 'min', 'max', 'max']\n",
    "suv_df"
   ],
   "metadata": {
    "collapsed": false,
    "ExecuteTime": {
     "end_time": "2023-10-30T21:08:40.349146Z",
     "start_time": "2023-10-30T21:08:40.338382Z"
    }
   },
   "id": "2ce20ddcd984a8ec"
  },
  {
   "cell_type": "code",
   "execution_count": 4,
   "outputs": [],
   "source": [
    "suv_df.to_csv('suv_manufacturers.csv')"
   ],
   "metadata": {
    "collapsed": false,
    "ExecuteTime": {
     "end_time": "2023-10-30T21:08:40.349641Z",
     "start_time": "2023-10-30T21:08:40.341472Z"
    }
   },
   "id": "d50171b960395710"
  },
  {
   "cell_type": "code",
   "execution_count": 5,
   "outputs": [
    {
     "data": {
      "text/plain": "                   Toyota     Ford    Honda  Chevrolet   Nissan  Hyundai  \\\nPrice             35000.0  32000.0  33000.0    31000.0  34000.0  30000.0   \nSafety_Rating         5.0      4.0      5.0        4.0      4.0      5.0   \nCargo_Capacity      500.0    450.0    480.0      400.0    520.0    470.0   \nHorsepower          200.0    250.0    190.0      180.0    220.0    210.0   \nFuel_Consumption      8.5     10.7      7.8       12.6      9.6      8.9   \nWarranty_Years        5.0      3.0      4.0        3.0      5.0      6.0   \nGround_Clearance    203.0    201.0    208.0      193.0    198.0    213.0   \n\n                   Subaru    Mazda     Jeep  Volkswagen Criterion  \nPrice             37000.0  31000.0  38000.0     36000.0       min  \nSafety_Rating         4.0      5.0      4.0         5.0       max  \nCargo_Capacity      430.0    490.0    520.0       450.0       max  \nHorsepower          240.0    230.0    260.0       180.0       max  \nFuel_Consumption      9.4      9.2     11.3         8.8       min  \nWarranty_Years        3.0      4.0      5.0         4.0       max  \nGround_Clearance    221.0    191.0    228.0       196.0       max  ",
      "text/html": "<div>\n<style scoped>\n    .dataframe tbody tr th:only-of-type {\n        vertical-align: middle;\n    }\n\n    .dataframe tbody tr th {\n        vertical-align: top;\n    }\n\n    .dataframe thead th {\n        text-align: right;\n    }\n</style>\n<table border=\"1\" class=\"dataframe\">\n  <thead>\n    <tr style=\"text-align: right;\">\n      <th></th>\n      <th>Toyota</th>\n      <th>Ford</th>\n      <th>Honda</th>\n      <th>Chevrolet</th>\n      <th>Nissan</th>\n      <th>Hyundai</th>\n      <th>Subaru</th>\n      <th>Mazda</th>\n      <th>Jeep</th>\n      <th>Volkswagen</th>\n      <th>Criterion</th>\n    </tr>\n  </thead>\n  <tbody>\n    <tr>\n      <th>Price</th>\n      <td>35000.0</td>\n      <td>32000.0</td>\n      <td>33000.0</td>\n      <td>31000.0</td>\n      <td>34000.0</td>\n      <td>30000.0</td>\n      <td>37000.0</td>\n      <td>31000.0</td>\n      <td>38000.0</td>\n      <td>36000.0</td>\n      <td>min</td>\n    </tr>\n    <tr>\n      <th>Safety_Rating</th>\n      <td>5.0</td>\n      <td>4.0</td>\n      <td>5.0</td>\n      <td>4.0</td>\n      <td>4.0</td>\n      <td>5.0</td>\n      <td>4.0</td>\n      <td>5.0</td>\n      <td>4.0</td>\n      <td>5.0</td>\n      <td>max</td>\n    </tr>\n    <tr>\n      <th>Cargo_Capacity</th>\n      <td>500.0</td>\n      <td>450.0</td>\n      <td>480.0</td>\n      <td>400.0</td>\n      <td>520.0</td>\n      <td>470.0</td>\n      <td>430.0</td>\n      <td>490.0</td>\n      <td>520.0</td>\n      <td>450.0</td>\n      <td>max</td>\n    </tr>\n    <tr>\n      <th>Horsepower</th>\n      <td>200.0</td>\n      <td>250.0</td>\n      <td>190.0</td>\n      <td>180.0</td>\n      <td>220.0</td>\n      <td>210.0</td>\n      <td>240.0</td>\n      <td>230.0</td>\n      <td>260.0</td>\n      <td>180.0</td>\n      <td>max</td>\n    </tr>\n    <tr>\n      <th>Fuel_Consumption</th>\n      <td>8.5</td>\n      <td>10.7</td>\n      <td>7.8</td>\n      <td>12.6</td>\n      <td>9.6</td>\n      <td>8.9</td>\n      <td>9.4</td>\n      <td>9.2</td>\n      <td>11.3</td>\n      <td>8.8</td>\n      <td>min</td>\n    </tr>\n    <tr>\n      <th>Warranty_Years</th>\n      <td>5.0</td>\n      <td>3.0</td>\n      <td>4.0</td>\n      <td>3.0</td>\n      <td>5.0</td>\n      <td>6.0</td>\n      <td>3.0</td>\n      <td>4.0</td>\n      <td>5.0</td>\n      <td>4.0</td>\n      <td>max</td>\n    </tr>\n    <tr>\n      <th>Ground_Clearance</th>\n      <td>203.0</td>\n      <td>201.0</td>\n      <td>208.0</td>\n      <td>193.0</td>\n      <td>198.0</td>\n      <td>213.0</td>\n      <td>221.0</td>\n      <td>191.0</td>\n      <td>228.0</td>\n      <td>196.0</td>\n      <td>max</td>\n    </tr>\n  </tbody>\n</table>\n</div>"
     },
     "execution_count": 5,
     "metadata": {},
     "output_type": "execute_result"
    }
   ],
   "source": [
    "suv_df = pd.read_csv('suv_manufacturers.csv', index_col=0)\n",
    "suv_df"
   ],
   "metadata": {
    "collapsed": false,
    "ExecuteTime": {
     "end_time": "2023-10-30T21:08:40.403217Z",
     "start_time": "2023-10-30T21:08:40.346829Z"
    }
   },
   "id": "b66f4cd72b6e6d03"
  },
  {
   "cell_type": "code",
   "execution_count": 6,
   "outputs": [],
   "source": [
    "def normalize_criterion(row):\n",
    "    if row['Criterion'] == 'min':\n",
    "        return row[:-1] / row[:-1].sum()\n",
    "    return (1 / row[:-1]) / sum(1 / row[:-1])\n",
    "\n",
    "def calculate_score(row, weights):\n",
    "    return (1 - row) ** (-1) @ weights"
   ],
   "metadata": {
    "collapsed": false,
    "ExecuteTime": {
     "end_time": "2023-10-30T21:08:40.403643Z",
     "start_time": "2023-10-30T21:08:40.357730Z"
    }
   },
   "id": "6b9a4f2a90e05a47"
  },
  {
   "cell_type": "code",
   "execution_count": 7,
   "outputs": [
    {
     "data": {
      "text/plain": "               Price  Safety_Rating  Cargo_Capacity  Horsepower  \\\nToyota      0.103858       0.088889        0.093598    0.106287   \nFord        0.094955       0.111111        0.103998    0.085030   \nHonda       0.097923       0.088889        0.097498    0.111881   \nChevrolet   0.091988       0.111111        0.116997    0.118097   \nNissan      0.100890       0.111111        0.089998    0.096625   \nHyundai     0.089021       0.088889        0.099572    0.101226   \nSubaru      0.109792       0.111111        0.108835    0.088573   \nMazda       0.091988       0.088889        0.095508    0.092424   \nJeep        0.112760       0.111111        0.089998    0.081760   \nVolkswagen  0.106825       0.088889        0.103998    0.118097   \n\n            Fuel_Consumption  Warranty_Years  Ground_Clearance  \nToyota              0.087810        0.079470          0.100771  \nFord                0.110537        0.132450          0.101774  \nHonda               0.080579        0.099338          0.098349  \nChevrolet           0.130165        0.132450          0.105992  \nNissan              0.099174        0.079470          0.103316  \nHyundai             0.091942        0.066225          0.096040  \nSubaru              0.097107        0.132450          0.092564  \nMazda               0.095041        0.099338          0.107102  \nJeep                0.116736        0.079470          0.089722  \nVolkswagen          0.090909        0.099338          0.104370  ",
      "text/html": "<div>\n<style scoped>\n    .dataframe tbody tr th:only-of-type {\n        vertical-align: middle;\n    }\n\n    .dataframe tbody tr th {\n        vertical-align: top;\n    }\n\n    .dataframe thead th {\n        text-align: right;\n    }\n</style>\n<table border=\"1\" class=\"dataframe\">\n  <thead>\n    <tr style=\"text-align: right;\">\n      <th></th>\n      <th>Price</th>\n      <th>Safety_Rating</th>\n      <th>Cargo_Capacity</th>\n      <th>Horsepower</th>\n      <th>Fuel_Consumption</th>\n      <th>Warranty_Years</th>\n      <th>Ground_Clearance</th>\n    </tr>\n  </thead>\n  <tbody>\n    <tr>\n      <th>Toyota</th>\n      <td>0.103858</td>\n      <td>0.088889</td>\n      <td>0.093598</td>\n      <td>0.106287</td>\n      <td>0.087810</td>\n      <td>0.079470</td>\n      <td>0.100771</td>\n    </tr>\n    <tr>\n      <th>Ford</th>\n      <td>0.094955</td>\n      <td>0.111111</td>\n      <td>0.103998</td>\n      <td>0.085030</td>\n      <td>0.110537</td>\n      <td>0.132450</td>\n      <td>0.101774</td>\n    </tr>\n    <tr>\n      <th>Honda</th>\n      <td>0.097923</td>\n      <td>0.088889</td>\n      <td>0.097498</td>\n      <td>0.111881</td>\n      <td>0.080579</td>\n      <td>0.099338</td>\n      <td>0.098349</td>\n    </tr>\n    <tr>\n      <th>Chevrolet</th>\n      <td>0.091988</td>\n      <td>0.111111</td>\n      <td>0.116997</td>\n      <td>0.118097</td>\n      <td>0.130165</td>\n      <td>0.132450</td>\n      <td>0.105992</td>\n    </tr>\n    <tr>\n      <th>Nissan</th>\n      <td>0.100890</td>\n      <td>0.111111</td>\n      <td>0.089998</td>\n      <td>0.096625</td>\n      <td>0.099174</td>\n      <td>0.079470</td>\n      <td>0.103316</td>\n    </tr>\n    <tr>\n      <th>Hyundai</th>\n      <td>0.089021</td>\n      <td>0.088889</td>\n      <td>0.099572</td>\n      <td>0.101226</td>\n      <td>0.091942</td>\n      <td>0.066225</td>\n      <td>0.096040</td>\n    </tr>\n    <tr>\n      <th>Subaru</th>\n      <td>0.109792</td>\n      <td>0.111111</td>\n      <td>0.108835</td>\n      <td>0.088573</td>\n      <td>0.097107</td>\n      <td>0.132450</td>\n      <td>0.092564</td>\n    </tr>\n    <tr>\n      <th>Mazda</th>\n      <td>0.091988</td>\n      <td>0.088889</td>\n      <td>0.095508</td>\n      <td>0.092424</td>\n      <td>0.095041</td>\n      <td>0.099338</td>\n      <td>0.107102</td>\n    </tr>\n    <tr>\n      <th>Jeep</th>\n      <td>0.112760</td>\n      <td>0.111111</td>\n      <td>0.089998</td>\n      <td>0.081760</td>\n      <td>0.116736</td>\n      <td>0.079470</td>\n      <td>0.089722</td>\n    </tr>\n    <tr>\n      <th>Volkswagen</th>\n      <td>0.106825</td>\n      <td>0.088889</td>\n      <td>0.103998</td>\n      <td>0.118097</td>\n      <td>0.090909</td>\n      <td>0.099338</td>\n      <td>0.104370</td>\n    </tr>\n  </tbody>\n</table>\n</div>"
     },
     "execution_count": 7,
     "metadata": {},
     "output_type": "execute_result"
    }
   ],
   "source": [
    "suv_df = suv_df.apply(normalize_criterion, axis=1)\n",
    "suv_df = suv_df.T\n",
    "suv_df"
   ],
   "metadata": {
    "collapsed": false,
    "ExecuteTime": {
     "end_time": "2023-10-30T21:08:40.425633Z",
     "start_time": "2023-10-30T21:08:40.364765Z"
    }
   },
   "id": "d25a2419c57f80bb"
  },
  {
   "cell_type": "code",
   "execution_count": 8,
   "outputs": [
    {
     "data": {
      "text/plain": "Hyundai       1.099558\nToyota        1.104329\nMazda         1.105938\nHonda         1.106733\nNissan        1.107816\nJeep          1.108155\nVolkswagen    1.113424\nFord          1.118453\nSubaru        1.118553\nChevrolet     1.130513\nName: Score, dtype: float64"
     },
     "execution_count": 8,
     "metadata": {},
     "output_type": "execute_result"
    }
   ],
   "source": [
    "weights = np.ones(suv_df.shape[1])\n",
    "weights = weights / sum(weights)\n",
    "suv_df['Score'] = suv_df.apply(lambda x: calculate_score(x, weights), axis=1)\n",
    "suv_df = suv_df.sort_values(by='Score')\n",
    "suv_df['Score']"
   ],
   "metadata": {
    "collapsed": false,
    "ExecuteTime": {
     "end_time": "2023-10-30T21:08:40.465074Z",
     "start_time": "2023-10-30T21:08:40.367265Z"
    }
   },
   "id": "5ad544e59fb2389f"
  },
  {
   "cell_type": "code",
   "execution_count": 9,
   "outputs": [
    {
     "name": "stdout",
     "output_type": "stream",
     "text": [
      "Optimal SUV Manufacturer: Hyundai\n",
      "Integrated score: 1.0995583160963056\n"
     ]
    }
   ],
   "source": [
    "print(f'Optimal SUV Manufacturer: {suv_df.iloc[0].name}')\n",
    "print(f'Integrated score: {suv_df.iloc[0, -1]}')"
   ],
   "metadata": {
    "collapsed": false,
    "ExecuteTime": {
     "end_time": "2023-10-30T21:08:40.465821Z",
     "start_time": "2023-10-30T21:08:40.375245Z"
    }
   },
   "id": "f7cc65747d4e4832"
  }
 ],
 "metadata": {
  "kernelspec": {
   "display_name": "Python 3",
   "language": "python",
   "name": "python3"
  },
  "language_info": {
   "codemirror_mode": {
    "name": "ipython",
    "version": 2
   },
   "file_extension": ".py",
   "mimetype": "text/x-python",
   "name": "python",
   "nbconvert_exporter": "python",
   "pygments_lexer": "ipython2",
   "version": "2.7.6"
  }
 },
 "nbformat": 4,
 "nbformat_minor": 5
}
