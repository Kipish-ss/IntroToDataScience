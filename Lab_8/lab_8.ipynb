{
 "cells": [
  {
   "cell_type": "code",
   "execution_count": 1,
   "id": "initial_id",
   "metadata": {
    "collapsed": true,
    "ExecuteTime": {
     "end_time": "2024-01-02T17:12:25.777261Z",
     "start_time": "2024-01-02T17:12:24.930389Z"
    }
   },
   "outputs": [],
   "source": [
    "import pandas as pd\n",
    "from datetime import datetime\n",
    "from sklearn.model_selection import GridSearchCV\n",
    "from sklearn.model_selection import train_test_split\n",
    "from sklearn.tree import DecisionTreeClassifier\n",
    "from sklearn.metrics import classification_report\n",
    "from sklearn.cluster import DBSCAN\n",
    "from sklearn.preprocessing import StandardScaler"
   ]
  },
  {
   "cell_type": "code",
   "execution_count": 2,
   "outputs": [
    {
     "data": {
      "text/plain": "   Application  loan_amount  loan_days          applied_at  gender_id  \\\n0            1         3000         30 2021-02-01 00:21:56          1   \n1            2         1000          7 2021-02-01 00:24:08          1   \n2            3         1000          3 2021-02-01 00:36:35          2   \n3            4         1600         30 2021-02-01 00:34:22          1   \n4            5         2500         18 2021-02-01 23:22:57          2   \n\n   Unnamed: 5 birth_date  Marital status  children_count_id  education_id  \\\n0         NaN 1995-02-03               2                  1             5   \n1         NaN 1984-01-19               2                  2             4   \n2         NaN 1994-08-02               2                  1             4   \n3         NaN 1992-11-12               1                  1             3   \n4         NaN 1997-10-22               1                  1             5   \n\n   ...           closed_at product_profile_id  credit_policy_id  user_id  \\\n0  ... 2021-03-01 16:17:00                 14                31   253430   \n1  ... 2021-02-07 15:30:00                 12                38   109618   \n2  ... 2021-02-05 18:26:00                 14                39   289130   \n3  ... 2021-02-18 18:42:00                 18                38   141625   \n4  ... 2021-05-23 18:29:00                 14                39   204249   \n\n    face_id  prolongation_number  prolongation_total_days  wizard_type_id  \\\n0       NaN                  NaN                      NaN               2   \n1       NaN                  NaN                      NaN               2   \n2       NaN                  NaN                      NaN               5   \n3  226701.0                  NaN                      NaN               2   \n4       NaN                  1.0                     20.0               5   \n\n   step          created_at  \n0     3 2021-02-01 00:20:01  \n1     3 2021-02-01 00:20:04  \n2     7 2021-02-01 00:22:13  \n3     3 2021-02-01 00:22:15  \n4     7 2021-02-01 00:23:03  \n\n[5 rows x 67 columns]",
      "text/html": "<div>\n<style scoped>\n    .dataframe tbody tr th:only-of-type {\n        vertical-align: middle;\n    }\n\n    .dataframe tbody tr th {\n        vertical-align: top;\n    }\n\n    .dataframe thead th {\n        text-align: right;\n    }\n</style>\n<table border=\"1\" class=\"dataframe\">\n  <thead>\n    <tr style=\"text-align: right;\">\n      <th></th>\n      <th>Application</th>\n      <th>loan_amount</th>\n      <th>loan_days</th>\n      <th>applied_at</th>\n      <th>gender_id</th>\n      <th>Unnamed: 5</th>\n      <th>birth_date</th>\n      <th>Marital status</th>\n      <th>children_count_id</th>\n      <th>education_id</th>\n      <th>...</th>\n      <th>closed_at</th>\n      <th>product_profile_id</th>\n      <th>credit_policy_id</th>\n      <th>user_id</th>\n      <th>face_id</th>\n      <th>prolongation_number</th>\n      <th>prolongation_total_days</th>\n      <th>wizard_type_id</th>\n      <th>step</th>\n      <th>created_at</th>\n    </tr>\n  </thead>\n  <tbody>\n    <tr>\n      <th>0</th>\n      <td>1</td>\n      <td>3000</td>\n      <td>30</td>\n      <td>2021-02-01 00:21:56</td>\n      <td>1</td>\n      <td>NaN</td>\n      <td>1995-02-03</td>\n      <td>2</td>\n      <td>1</td>\n      <td>5</td>\n      <td>...</td>\n      <td>2021-03-01 16:17:00</td>\n      <td>14</td>\n      <td>31</td>\n      <td>253430</td>\n      <td>NaN</td>\n      <td>NaN</td>\n      <td>NaN</td>\n      <td>2</td>\n      <td>3</td>\n      <td>2021-02-01 00:20:01</td>\n    </tr>\n    <tr>\n      <th>1</th>\n      <td>2</td>\n      <td>1000</td>\n      <td>7</td>\n      <td>2021-02-01 00:24:08</td>\n      <td>1</td>\n      <td>NaN</td>\n      <td>1984-01-19</td>\n      <td>2</td>\n      <td>2</td>\n      <td>4</td>\n      <td>...</td>\n      <td>2021-02-07 15:30:00</td>\n      <td>12</td>\n      <td>38</td>\n      <td>109618</td>\n      <td>NaN</td>\n      <td>NaN</td>\n      <td>NaN</td>\n      <td>2</td>\n      <td>3</td>\n      <td>2021-02-01 00:20:04</td>\n    </tr>\n    <tr>\n      <th>2</th>\n      <td>3</td>\n      <td>1000</td>\n      <td>3</td>\n      <td>2021-02-01 00:36:35</td>\n      <td>2</td>\n      <td>NaN</td>\n      <td>1994-08-02</td>\n      <td>2</td>\n      <td>1</td>\n      <td>4</td>\n      <td>...</td>\n      <td>2021-02-05 18:26:00</td>\n      <td>14</td>\n      <td>39</td>\n      <td>289130</td>\n      <td>NaN</td>\n      <td>NaN</td>\n      <td>NaN</td>\n      <td>5</td>\n      <td>7</td>\n      <td>2021-02-01 00:22:13</td>\n    </tr>\n    <tr>\n      <th>3</th>\n      <td>4</td>\n      <td>1600</td>\n      <td>30</td>\n      <td>2021-02-01 00:34:22</td>\n      <td>1</td>\n      <td>NaN</td>\n      <td>1992-11-12</td>\n      <td>1</td>\n      <td>1</td>\n      <td>3</td>\n      <td>...</td>\n      <td>2021-02-18 18:42:00</td>\n      <td>18</td>\n      <td>38</td>\n      <td>141625</td>\n      <td>226701.0</td>\n      <td>NaN</td>\n      <td>NaN</td>\n      <td>2</td>\n      <td>3</td>\n      <td>2021-02-01 00:22:15</td>\n    </tr>\n    <tr>\n      <th>4</th>\n      <td>5</td>\n      <td>2500</td>\n      <td>18</td>\n      <td>2021-02-01 23:22:57</td>\n      <td>2</td>\n      <td>NaN</td>\n      <td>1997-10-22</td>\n      <td>1</td>\n      <td>1</td>\n      <td>5</td>\n      <td>...</td>\n      <td>2021-05-23 18:29:00</td>\n      <td>14</td>\n      <td>39</td>\n      <td>204249</td>\n      <td>NaN</td>\n      <td>1.0</td>\n      <td>20.0</td>\n      <td>5</td>\n      <td>7</td>\n      <td>2021-02-01 00:23:03</td>\n    </tr>\n  </tbody>\n</table>\n<p>5 rows × 67 columns</p>\n</div>"
     },
     "execution_count": 2,
     "metadata": {},
     "output_type": "execute_result"
    }
   ],
   "source": [
    "sample_data = pd.read_excel('sample_data.xlsx')\n",
    "sample_data.head()"
   ],
   "metadata": {
    "collapsed": false,
    "ExecuteTime": {
     "end_time": "2024-01-02T17:12:26.032729Z",
     "start_time": "2024-01-02T17:12:25.776986Z"
    }
   },
   "id": "b7a36d173120022f"
  },
  {
   "cell_type": "code",
   "execution_count": 3,
   "outputs": [
    {
     "data": {
      "text/plain": "0"
     },
     "execution_count": 3,
     "metadata": {},
     "output_type": "execute_result"
    }
   ],
   "source": [
    "sample_data.duplicated().sum()"
   ],
   "metadata": {
    "collapsed": false,
    "ExecuteTime": {
     "end_time": "2024-01-02T17:12:26.051525Z",
     "start_time": "2024-01-02T17:12:26.032873Z"
    }
   },
   "id": "94e19751cda0829e"
  },
  {
   "cell_type": "code",
   "execution_count": 4,
   "outputs": [
    {
     "data": {
      "text/plain": "0    29\n1    40\n2    30\n3    32\n4    27\nName: age, dtype: int32"
     },
     "execution_count": 4,
     "metadata": {},
     "output_type": "execute_result"
    }
   ],
   "source": [
    "current_year = datetime.now().year\n",
    "sample_data.loc[:, 'age'] = current_year - pd.DatetimeIndex(sample_data['birth_date']).year\n",
    "sample_dat = sample_data.drop(columns='birth_date')\n",
    "sample_data['age'].head()"
   ],
   "metadata": {
    "collapsed": false,
    "ExecuteTime": {
     "end_time": "2024-01-02T17:12:26.051849Z",
     "start_time": "2024-01-02T17:12:26.049648Z"
    }
   },
   "id": "a65a33e75b7ba319"
  },
  {
   "cell_type": "code",
   "execution_count": 5,
   "outputs": [
    {
     "data": {
      "text/plain": "   loan_amount  loan_days  gender_id  children_count_id  monthly_income  \\\n0         3000         30          1                  1           15000   \n1         1000          7          1                  2           11000   \n2         1000          3          2                  1           10000   \n3         1600         30          1                  1            8000   \n4         2500         18          2                  1            9000   \n\n   has_immovables  other_loans_active  income_frequency_id  seniority_years  \\\n0               0                   1                    2                5   \n1               0                   2                    2                8   \n2               0                   0                    2                5   \n3               0                   0                    2                3   \n4               1                   2                    2                1   \n\n   age  \n0   29  \n1   40  \n2   30  \n3   32  \n4   27  ",
      "text/html": "<div>\n<style scoped>\n    .dataframe tbody tr th:only-of-type {\n        vertical-align: middle;\n    }\n\n    .dataframe tbody tr th {\n        vertical-align: top;\n    }\n\n    .dataframe thead th {\n        text-align: right;\n    }\n</style>\n<table border=\"1\" class=\"dataframe\">\n  <thead>\n    <tr style=\"text-align: right;\">\n      <th></th>\n      <th>loan_amount</th>\n      <th>loan_days</th>\n      <th>gender_id</th>\n      <th>children_count_id</th>\n      <th>monthly_income</th>\n      <th>has_immovables</th>\n      <th>other_loans_active</th>\n      <th>income_frequency_id</th>\n      <th>seniority_years</th>\n      <th>age</th>\n    </tr>\n  </thead>\n  <tbody>\n    <tr>\n      <th>0</th>\n      <td>3000</td>\n      <td>30</td>\n      <td>1</td>\n      <td>1</td>\n      <td>15000</td>\n      <td>0</td>\n      <td>1</td>\n      <td>2</td>\n      <td>5</td>\n      <td>29</td>\n    </tr>\n    <tr>\n      <th>1</th>\n      <td>1000</td>\n      <td>7</td>\n      <td>1</td>\n      <td>2</td>\n      <td>11000</td>\n      <td>0</td>\n      <td>2</td>\n      <td>2</td>\n      <td>8</td>\n      <td>40</td>\n    </tr>\n    <tr>\n      <th>2</th>\n      <td>1000</td>\n      <td>3</td>\n      <td>2</td>\n      <td>1</td>\n      <td>10000</td>\n      <td>0</td>\n      <td>0</td>\n      <td>2</td>\n      <td>5</td>\n      <td>30</td>\n    </tr>\n    <tr>\n      <th>3</th>\n      <td>1600</td>\n      <td>30</td>\n      <td>1</td>\n      <td>1</td>\n      <td>8000</td>\n      <td>0</td>\n      <td>0</td>\n      <td>2</td>\n      <td>3</td>\n      <td>32</td>\n    </tr>\n    <tr>\n      <th>4</th>\n      <td>2500</td>\n      <td>18</td>\n      <td>2</td>\n      <td>1</td>\n      <td>9000</td>\n      <td>1</td>\n      <td>2</td>\n      <td>2</td>\n      <td>1</td>\n      <td>27</td>\n    </tr>\n  </tbody>\n</table>\n</div>"
     },
     "execution_count": 5,
     "metadata": {},
     "output_type": "execute_result"
    }
   ],
   "source": [
    "features = sample_data[\n",
    "    ['loan_amount', 'loan_days', 'gender_id', 'children_count_id',\n",
    "     'monthly_income', 'has_immovables', 'other_loans_active', 'income_frequency_id', 'seniority_years', 'age']].copy()\n",
    "features.head()"
   ],
   "metadata": {
    "collapsed": false,
    "ExecuteTime": {
     "end_time": "2024-01-02T17:12:26.069110Z",
     "start_time": "2024-01-02T17:12:26.054221Z"
    }
   },
   "id": "5b4ed38dbab0ecdc"
  },
  {
   "cell_type": "code",
   "execution_count": 6,
   "outputs": [
    {
     "data": {
      "text/plain": "loan_amount            0\nloan_days              0\ngender_id              0\nchildren_count_id      0\nmonthly_income         0\nhas_immovables         0\nother_loans_active     0\nincome_frequency_id    0\nseniority_years        0\nage                    0\ndtype: int64"
     },
     "execution_count": 6,
     "metadata": {},
     "output_type": "execute_result"
    }
   ],
   "source": [
    "features.isna().sum()"
   ],
   "metadata": {
    "collapsed": false,
    "ExecuteTime": {
     "end_time": "2024-01-02T17:12:26.089052Z",
     "start_time": "2024-01-02T17:12:26.057781Z"
    }
   },
   "id": "6c29a22609086caf"
  },
  {
   "cell_type": "code",
   "execution_count": 7,
   "outputs": [
    {
     "data": {
      "text/plain": "0    1\n1    1\n2    0\n3    1\n4    0\nName: closed_in_time, dtype: int64"
     },
     "execution_count": 7,
     "metadata": {},
     "output_type": "execute_result"
    }
   ],
   "source": [
    "sample_data['closed_in_time'] = ((sample_data['loan_closed'] == 1) & (sample_data['loan_overdue'] == 0)).astype(int)\n",
    "target = sample_data['closed_in_time']\n",
    "target.head()"
   ],
   "metadata": {
    "collapsed": false,
    "ExecuteTime": {
     "end_time": "2024-01-02T17:12:26.115646Z",
     "start_time": "2024-01-02T17:12:26.061588Z"
    }
   },
   "id": "e3e98cd11c49eb71"
  },
  {
   "cell_type": "code",
   "execution_count": 8,
   "outputs": [],
   "source": [
    "X_train, X_test, y_train, y_test = train_test_split(features, target, test_size=0.3, random_state=42, stratify=target)"
   ],
   "metadata": {
    "collapsed": false,
    "ExecuteTime": {
     "end_time": "2024-01-02T17:12:26.115940Z",
     "start_time": "2024-01-02T17:12:26.064737Z"
    }
   },
   "id": "dac7f46b2a8bc223"
  },
  {
   "cell_type": "code",
   "execution_count": 9,
   "outputs": [
    {
     "name": "stdout",
     "output_type": "stream",
     "text": [
      "Fitting 5 folds for each of 72 candidates, totalling 360 fits\n"
     ]
    }
   ],
   "source": [
    "decision_tree_gcv = GridSearchCV(\n",
    "    DecisionTreeClassifier(class_weight='balanced'),\n",
    "    param_grid={\n",
    "        'max_depth': range(5, 11),\n",
    "        \"min_samples_split\": [2,5,7,10],\n",
    "        \"min_samples_leaf\": [1,2,5]\n",
    "    },\n",
    "    n_jobs=-1,\n",
    "    cv=5,\n",
    "    verbose=1\n",
    ").fit(X_train, y_train)"
   ],
   "metadata": {
    "collapsed": false,
    "ExecuteTime": {
     "end_time": "2024-01-02T17:12:27.378812Z",
     "start_time": "2024-01-02T17:12:26.068438Z"
    }
   },
   "id": "45906a90a6bf3af0"
  },
  {
   "cell_type": "code",
   "execution_count": 10,
   "outputs": [
    {
     "data": {
      "text/plain": "{'max_depth': 10, 'min_samples_leaf': 5, 'min_samples_split': 10}"
     },
     "execution_count": 10,
     "metadata": {},
     "output_type": "execute_result"
    }
   ],
   "source": [
    "decision_tree_gcv.best_params_"
   ],
   "metadata": {
    "collapsed": false,
    "ExecuteTime": {
     "end_time": "2024-01-02T17:12:27.380799Z",
     "start_time": "2024-01-02T17:12:27.369636Z"
    }
   },
   "id": "d886616dae0d93b6"
  },
  {
   "cell_type": "code",
   "execution_count": 11,
   "outputs": [
    {
     "name": "stdout",
     "output_type": "stream",
     "text": [
      "              precision    recall  f1-score   support\n",
      "\n",
      "           0       0.25      0.35      0.29        37\n",
      "           1       0.75      0.65      0.70       113\n",
      "\n",
      "    accuracy                           0.57       150\n",
      "   macro avg       0.50      0.50      0.49       150\n",
      "weighted avg       0.63      0.57      0.60       150\n"
     ]
    }
   ],
   "source": [
    "predictions = decision_tree_gcv.predict(X_test)\n",
    "print(classification_report(y_test, predictions))"
   ],
   "metadata": {
    "collapsed": false,
    "ExecuteTime": {
     "end_time": "2024-01-02T17:12:27.381082Z",
     "start_time": "2024-01-02T17:12:27.372477Z"
    }
   },
   "id": "5c790636a4745c70"
  },
  {
   "cell_type": "code",
   "execution_count": 12,
   "outputs": [
    {
     "data": {
      "text/plain": "0.7564469914040115"
     },
     "execution_count": 12,
     "metadata": {},
     "output_type": "execute_result"
    }
   ],
   "source": [
    "decision_tree_gcv.score(X_train, y_train)"
   ],
   "metadata": {
    "collapsed": false,
    "ExecuteTime": {
     "end_time": "2024-01-02T17:12:27.381736Z",
     "start_time": "2024-01-02T17:12:27.376880Z"
    }
   },
   "id": "a0db73a87d9178a4"
  },
  {
   "cell_type": "code",
   "execution_count": 17,
   "outputs": [],
   "source": [
    "sample_data['loan_to_income_ratio'] = sample_data['loan_amount'] / sample_data['monthly_income']"
   ],
   "metadata": {
    "collapsed": false,
    "ExecuteTime": {
     "end_time": "2024-01-02T17:14:22.005894Z",
     "start_time": "2024-01-02T17:14:21.995748Z"
    }
   },
   "id": "b5becb43dead9ffe"
  },
  {
   "cell_type": "code",
   "execution_count": 18,
   "outputs": [
    {
     "data": {
      "text/plain": "   loan_to_income_ratio  loan_days  age\n0              0.200000         30   29\n1              0.090909          7   40\n2              0.100000          3   30\n3              0.200000         30   32\n4              0.277778         18   27",
      "text/html": "<div>\n<style scoped>\n    .dataframe tbody tr th:only-of-type {\n        vertical-align: middle;\n    }\n\n    .dataframe tbody tr th {\n        vertical-align: top;\n    }\n\n    .dataframe thead th {\n        text-align: right;\n    }\n</style>\n<table border=\"1\" class=\"dataframe\">\n  <thead>\n    <tr style=\"text-align: right;\">\n      <th></th>\n      <th>loan_to_income_ratio</th>\n      <th>loan_days</th>\n      <th>age</th>\n    </tr>\n  </thead>\n  <tbody>\n    <tr>\n      <th>0</th>\n      <td>0.200000</td>\n      <td>30</td>\n      <td>29</td>\n    </tr>\n    <tr>\n      <th>1</th>\n      <td>0.090909</td>\n      <td>7</td>\n      <td>40</td>\n    </tr>\n    <tr>\n      <th>2</th>\n      <td>0.100000</td>\n      <td>3</td>\n      <td>30</td>\n    </tr>\n    <tr>\n      <th>3</th>\n      <td>0.200000</td>\n      <td>30</td>\n      <td>32</td>\n    </tr>\n    <tr>\n      <th>4</th>\n      <td>0.277778</td>\n      <td>18</td>\n      <td>27</td>\n    </tr>\n  </tbody>\n</table>\n</div>"
     },
     "execution_count": 18,
     "metadata": {},
     "output_type": "execute_result"
    }
   ],
   "source": [
    "clustering_features = ['loan_to_income_ratio', 'loan_days', 'age']\n",
    "clustering_data = sample_data[clustering_features].copy()\n",
    "clustering_data.head()"
   ],
   "metadata": {
    "collapsed": false,
    "ExecuteTime": {
     "end_time": "2024-01-02T17:14:22.170019Z",
     "start_time": "2024-01-02T17:14:22.165365Z"
    }
   },
   "id": "3ab2f8d2ec24ad5c"
  },
  {
   "cell_type": "code",
   "execution_count": 19,
   "outputs": [],
   "source": [
    "scaler = StandardScaler()\n",
    "clustering_data_scaled = scaler.fit_transform(clustering_data)"
   ],
   "metadata": {
    "collapsed": false,
    "ExecuteTime": {
     "end_time": "2024-01-02T17:14:22.803386Z",
     "start_time": "2024-01-02T17:14:22.798699Z"
    }
   },
   "id": "9b6a94a27b145b4f"
  },
  {
   "cell_type": "code",
   "execution_count": 20,
   "outputs": [
    {
     "data": {
      "text/plain": "     loan_to_income_ratio  loan_days  age\n77             200.000000         15   62\n111              0.188889          4   63",
      "text/html": "<div>\n<style scoped>\n    .dataframe tbody tr th:only-of-type {\n        vertical-align: middle;\n    }\n\n    .dataframe tbody tr th {\n        vertical-align: top;\n    }\n\n    .dataframe thead th {\n        text-align: right;\n    }\n</style>\n<table border=\"1\" class=\"dataframe\">\n  <thead>\n    <tr style=\"text-align: right;\">\n      <th></th>\n      <th>loan_to_income_ratio</th>\n      <th>loan_days</th>\n      <th>age</th>\n    </tr>\n  </thead>\n  <tbody>\n    <tr>\n      <th>77</th>\n      <td>200.000000</td>\n      <td>15</td>\n      <td>62</td>\n    </tr>\n    <tr>\n      <th>111</th>\n      <td>0.188889</td>\n      <td>4</td>\n      <td>63</td>\n    </tr>\n  </tbody>\n</table>\n</div>"
     },
     "execution_count": 20,
     "metadata": {},
     "output_type": "execute_result"
    }
   ],
   "source": [
    "dbscan = DBSCAN()\n",
    "clusters = dbscan.fit_predict(clustering_data_scaled)\n",
    "sample_data['suspicious'] = clusters == -1\n",
    "sample_data[sample_data['suspicious']].loc[:, clustering_features]"
   ],
   "metadata": {
    "collapsed": false,
    "ExecuteTime": {
     "end_time": "2024-01-02T17:14:23.360553Z",
     "start_time": "2024-01-02T17:14:23.353996Z"
    }
   },
   "id": "72dfb71b25c6837d"
  },
  {
   "cell_type": "code",
   "execution_count": 21,
   "outputs": [
    {
     "data": {
      "text/plain": "       loan_to_income_ratio   loan_days         age\ncount            499.000000  499.000000  499.000000\nmean               0.630140   22.124248   35.160321\nstd                8.945472    9.151590    8.291280\nmin                0.015789    3.000000   23.000000\n25%                0.100000   15.000000   29.000000\n50%                0.166667   28.000000   33.000000\n75%                0.300000   30.000000   39.000000\nmax              200.000000   30.000000   65.000000",
      "text/html": "<div>\n<style scoped>\n    .dataframe tbody tr th:only-of-type {\n        vertical-align: middle;\n    }\n\n    .dataframe tbody tr th {\n        vertical-align: top;\n    }\n\n    .dataframe thead th {\n        text-align: right;\n    }\n</style>\n<table border=\"1\" class=\"dataframe\">\n  <thead>\n    <tr style=\"text-align: right;\">\n      <th></th>\n      <th>loan_to_income_ratio</th>\n      <th>loan_days</th>\n      <th>age</th>\n    </tr>\n  </thead>\n  <tbody>\n    <tr>\n      <th>count</th>\n      <td>499.000000</td>\n      <td>499.000000</td>\n      <td>499.000000</td>\n    </tr>\n    <tr>\n      <th>mean</th>\n      <td>0.630140</td>\n      <td>22.124248</td>\n      <td>35.160321</td>\n    </tr>\n    <tr>\n      <th>std</th>\n      <td>8.945472</td>\n      <td>9.151590</td>\n      <td>8.291280</td>\n    </tr>\n    <tr>\n      <th>min</th>\n      <td>0.015789</td>\n      <td>3.000000</td>\n      <td>23.000000</td>\n    </tr>\n    <tr>\n      <th>25%</th>\n      <td>0.100000</td>\n      <td>15.000000</td>\n      <td>29.000000</td>\n    </tr>\n    <tr>\n      <th>50%</th>\n      <td>0.166667</td>\n      <td>28.000000</td>\n      <td>33.000000</td>\n    </tr>\n    <tr>\n      <th>75%</th>\n      <td>0.300000</td>\n      <td>30.000000</td>\n      <td>39.000000</td>\n    </tr>\n    <tr>\n      <th>max</th>\n      <td>200.000000</td>\n      <td>30.000000</td>\n      <td>65.000000</td>\n    </tr>\n  </tbody>\n</table>\n</div>"
     },
     "execution_count": 21,
     "metadata": {},
     "output_type": "execute_result"
    }
   ],
   "source": [
    "clustering_data.describe()"
   ],
   "metadata": {
    "collapsed": false,
    "ExecuteTime": {
     "end_time": "2024-01-02T17:14:30.011355Z",
     "start_time": "2024-01-02T17:14:29.997519Z"
    }
   },
   "id": "2cf8f1b3e9e109f5"
  },
  {
   "cell_type": "code",
   "execution_count": null,
   "outputs": [],
   "source": [],
   "metadata": {
    "collapsed": false
   },
   "id": "52cac9c124a9a69a"
  }
 ],
 "metadata": {
  "kernelspec": {
   "display_name": "Python 3",
   "language": "python",
   "name": "python3"
  },
  "language_info": {
   "codemirror_mode": {
    "name": "ipython",
    "version": 2
   },
   "file_extension": ".py",
   "mimetype": "text/x-python",
   "name": "python",
   "nbconvert_exporter": "python",
   "pygments_lexer": "ipython2",
   "version": "2.7.6"
  }
 },
 "nbformat": 4,
 "nbformat_minor": 5
}
